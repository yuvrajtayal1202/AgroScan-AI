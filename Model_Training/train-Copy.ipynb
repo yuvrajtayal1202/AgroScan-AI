{
 "cells": [
  {
   "cell_type": "code",
   "execution_count": 1,
   "id": "e09bedd4",
   "metadata": {},
   "outputs": [],
   "source": [
    "TF_CPP_MIN_LOG_LEVEL=0"
   ]
  },
  {
   "cell_type": "code",
   "execution_count": null,
   "id": "8f921a32",
   "metadata": {},
   "outputs": [],
   "source": []
  },
  {
   "cell_type": "code",
   "execution_count": 2,
   "metadata": {},
   "outputs": [],
   "source": [
    "import tensorflow as tf\n",
    "tf.keras.backend.clear_session()  # Resets TF statefrom tensorflow.keras.preprocessing import image\n",
    "from tensorflow.keras.preprocessing.image import ImageDataGenerator\n",
    "from tensorflow.keras.applications import MobileNetV2\n",
    "from tensorflow.keras.models import Model, load_model\n",
    "from tensorflow.keras.layers import Dense, GlobalAveragePooling2D, Dropout\n",
    "from tensorflow.keras.callbacks import EarlyStopping, ModelCheckpoint, TensorBoard\n",
    "\n",
    "import numpy as np\n",
    "import matplotlib.pyplot as plt\n",
    "import os\n",
    "import datetime"
   ]
  },
  {
   "cell_type": "code",
   "execution_count": 3,
   "id": "59efcfd2",
   "metadata": {},
   "outputs": [
    {
     "name": "stdout",
     "output_type": "stream",
     "text": [
      "TensorFlow version: 2.10.0\n",
      "1 Physical GPUs, 1 Logical GPUs\n",
      "INFO:tensorflow:Using MirroredStrategy with devices ('/job:localhost/replica:0/task:0/device:GPU:0',)\n",
      "Using 1 GPU(s)\n",
      "Execution strategy: <tensorflow.python.distribute.mirrored_strategy.MirroredStrategy object at 0x0000022AC2123130>\n"
     ]
    }
   ],
   "source": [
    "# Corrected GPU setup\n",
    "print(f\"TensorFlow version: {tf.__version__}\")\n",
    "gpus = tf.config.list_physical_devices('GPU')  # FIXED: Correct variable name\n",
    "\n",
    "if gpus:\n",
    "    try:\n",
    "        # Enable memory growth for all GPUs\n",
    "        for gpu in gpus:\n",
    "            tf.config.experimental.set_memory_growth(gpu, True)\n",
    "        \n",
    "        # Verify GPU setup\n",
    "        logical_gpus = tf.config.list_logical_devices('GPU')\n",
    "        print(f\"{len(gpus)} Physical GPUs, {len(logical_gpus)} Logical GPUs\")\n",
    "        \n",
    "        # Create distribution strategy\n",
    "        strategy = tf.distribute.MirroredStrategy()  # FIXED: Correct spelling\n",
    "        print(f\"Using {strategy.num_replicas_in_sync} GPU(s)\")\n",
    "        \n",
    "    except RuntimeError as e:\n",
    "        print(f\"GPU setup error: {e}\")\n",
    "        strategy = tf.distribute.get_strategy()\n",
    "else:\n",
    "    strategy = tf.distribute.get_strategy()\n",
    "    print(\"No GPU available, using CPU\")\n",
    "\n",
    "print(\"Execution strategy:\", strategy)"
   ]
  },
  {
   "cell_type": "code",
   "execution_count": 4,
   "id": "589a8c1e",
   "metadata": {},
   "outputs": [
    {
     "name": "stdout",
     "output_type": "stream",
     "text": [
      "\n",
      "GPU Verification Test:\n",
      "Matrix multiplication result: tf.Tensor(\n",
      "[[1. 3.]\n",
      " [3. 7.]], shape=(2, 2), dtype=float32)\n",
      "Device used: /job:localhost/replica:0/task:0/device:GPU:0\n"
     ]
    }
   ],
   "source": [
    "# Add this test cell after the GPU configuration\n",
    "print(\"\\nGPU Verification Test:\")\n",
    "with tf.device('/GPU:0'):\n",
    "    a = tf.constant([[1.0, 2.0], [3.0, 4.0]])\n",
    "    b = tf.constant([[1.0, 1.0], [0.0, 1.0]])\n",
    "    c = tf.matmul(a, b)\n",
    "    print(\"Matrix multiplication result:\", c)\n",
    "    print(\"Device used:\", c.device)"
   ]
  },
  {
   "cell_type": "code",
   "execution_count": 5,
   "id": "854e7057",
   "metadata": {},
   "outputs": [],
   "source": [
    "# For Increment in model number\n",
    "import re\n",
    "\n",
    "def get_next_model_path(base_path=\"../Model\", base_name=\"plant_model\"):\n",
    "    # Create directory if it doesn't exist\n",
    "    os.makedirs(base_path, exist_ok=True)\n",
    "\n",
    "    # Regex to match files like: plant_model_v1.h5, plant_model_v2.h5, ...\n",
    "    pattern = re.compile(rf\"{base_name}_v(\\d+)\\.h5\")\n",
    "    \n",
    "    existing_versions = []\n",
    "    \n",
    "    for filename in os.listdir(base_path):\n",
    "        match = pattern.match(filename)\n",
    "        if match:\n",
    "            existing_versions.append(int(match.group(1)))\n",
    "    \n",
    "    next_version = max(existing_versions, default=0) + 1\n",
    "    model_filename = f\"{base_name}_v{next_version}.h5\"\n",
    "    return os.path.join(base_path, model_filename)\n"
   ]
  },
  {
   "cell_type": "code",
   "execution_count": 6,
   "metadata": {},
   "outputs": [],
   "source": [
    "# === Paths ===\n",
    "# DATA_DIR = \"../Data/New Plant Diseases Dataset(Augmented)/New Plant Diseases Dataset(Augmented)\"\n",
    "DATA_DIR = r\"../Data/New Plant Diseases Dataset(Augmented)/New Plant Diseases Dataset(Augmented)/\".replace(\"\\\\\", \"/\")\n",
    "TRAIN_DIR = os.path.join(DATA_DIR, \"train\")\n",
    "VAL_DIR = os.path.join(DATA_DIR, \"valid\")\n",
    "MODEL_SAVE_PATH = get_next_model_path()\n",
    "LOG_DIR = \"../Model_Training/logs/\" + datetime.datetime.now().strftime(\"%Y%m%d-%H%M%S\")\n",
    "CHECKPOINT_DIR = \"../Model_Training/checkpoints/\""
   ]
  },
  {
   "cell_type": "code",
   "execution_count": 7,
   "id": "ffb16537",
   "metadata": {},
   "outputs": [
    {
     "name": "stdout",
     "output_type": "stream",
     "text": [
      "Final DATA_DIR: c:\\Users\\yuvra\\Desktop\\Repos\\AgroScan-AI\\Data\\New Plant Diseases Dataset(Augmented)\\New Plant Diseases Dataset(Augmented)\n",
      "Exists: True\n"
     ]
    }
   ],
   "source": [
    "import os\n",
    "import datetime\n",
    "\n",
    "# Get absolute path\n",
    "current_dir = os.getcwd()  # For Jupyter notebook\n",
    "DATA_DIR = os.path.join(current_dir, \"../Data/New Plant Diseases Dataset(Augmented)/New Plant Diseases Dataset(Augmented)\")\n",
    "DATA_DIR = os.path.abspath(DATA_DIR).replace(\"/\", \"\\\\\")\n",
    "\n",
    "# Verify and correct path\n",
    "if not os.path.exists(DATA_DIR):\n",
    "    print(f\"Error: DATA_DIR not found at {DATA_DIR}\")\n",
    "    # Try alternative path\n",
    "    DATA_DIR = os.path.join(current_dir, \"..\", \"Data\", \"New Plant Diseases Dataset(Augmented)\", \"New Plant Diseases Dataset(Augmented)\")\n",
    "    DATA_DIR = os.path.abspath(DATA_DIR)\n",
    "\n",
    "TRAIN_DIR = os.path.join(DATA_DIR, \"train\")\n",
    "VAL_DIR = os.path.join(DATA_DIR, \"valid\")\n",
    "\n",
    "print(f\"Final DATA_DIR: {DATA_DIR}\")\n",
    "print(f\"Exists: {os.path.exists(DATA_DIR)}\")"
   ]
  },
  {
   "cell_type": "code",
   "execution_count": 8,
   "metadata": {},
   "outputs": [
    {
     "name": "stdout",
     "output_type": "stream",
     "text": [
      "Found 70295 images belonging to 38 classes.\n",
      "Found 17572 images belonging to 38 classes.\n"
     ]
    }
   ],
   "source": [
    "# === Data Loading ===\n",
    "IMAGE_SIZE = (96, 96)\n",
    "BATCH_SIZE = 2\n",
    "\n",
    "train_datagen = ImageDataGenerator(\n",
    "    rescale=1./255,\n",
    "    rotation_range=40,            # Increased from 20\n",
    "    width_shift_range=0.2,        # New\n",
    "    height_shift_range=0.2,       # New\n",
    "    shear_range=0.15,             # New\n",
    "    zoom_range=0.3,               # Increased from 0.2\n",
    "    horizontal_flip=True,\n",
    "    fill_mode='reflect'           # Better than 'nearest' for plants\n",
    ")\n",
    "\n",
    "val_datagen = ImageDataGenerator(rescale=1./255)\n",
    "\n",
    "train_generator = train_datagen.flow_from_directory(\n",
    "    TRAIN_DIR,\n",
    "    target_size=IMAGE_SIZE,\n",
    "    batch_size=BATCH_SIZE * strategy.num_replicas_in_sync,  # Scale batch size\n",
    "    class_mode='categorical',\n",
    "    shuffle=True\n",
    ")\n",
    "\n",
    "\n",
    "val_generator = val_datagen.flow_from_directory(\n",
    "    VAL_DIR,\n",
    "    target_size=IMAGE_SIZE,\n",
    "    batch_size=BATCH_SIZE,\n",
    "    class_mode='categorical'\n",
    ")"
   ]
  },
  {
   "cell_type": "code",
   "execution_count": 9,
   "id": "afe88c88",
   "metadata": {},
   "outputs": [],
   "source": [
    "# === Saving the Model ===# During training, save this:\n",
    "with open(\"../Backend/model_loader/class_names.txt\", \"w\") as f:\n",
    "    for class_name in train_generator.class_indices:\n",
    "        f.write(class_name + \"\\n\")\n"
   ]
  },
  {
   "cell_type": "code",
   "execution_count": 10,
   "metadata": {},
   "outputs": [
    {
     "name": "stdout",
     "output_type": "stream",
     "text": [
      "INFO:tensorflow:Reduce to /job:localhost/replica:0/task:0/device:CPU:0 then broadcast to ('/job:localhost/replica:0/task:0/device:CPU:0',).\n",
      "INFO:tensorflow:Reduce to /job:localhost/replica:0/task:0/device:CPU:0 then broadcast to ('/job:localhost/replica:0/task:0/device:CPU:0',).\n",
      "INFO:tensorflow:Reduce to /job:localhost/replica:0/task:0/device:CPU:0 then broadcast to ('/job:localhost/replica:0/task:0/device:CPU:0',).\n",
      "INFO:tensorflow:Reduce to /job:localhost/replica:0/task:0/device:CPU:0 then broadcast to ('/job:localhost/replica:0/task:0/device:CPU:0',).\n",
      "INFO:tensorflow:Reduce to /job:localhost/replica:0/task:0/device:CPU:0 then broadcast to ('/job:localhost/replica:0/task:0/device:CPU:0',).\n",
      "INFO:tensorflow:Reduce to /job:localhost/replica:0/task:0/device:CPU:0 then broadcast to ('/job:localhost/replica:0/task:0/device:CPU:0',).\n",
      "INFO:tensorflow:Reduce to /job:localhost/replica:0/task:0/device:CPU:0 then broadcast to ('/job:localhost/replica:0/task:0/device:CPU:0',).\n",
      "INFO:tensorflow:Reduce to /job:localhost/replica:0/task:0/device:CPU:0 then broadcast to ('/job:localhost/replica:0/task:0/device:CPU:0',).\n",
      "INFO:tensorflow:Reduce to /job:localhost/replica:0/task:0/device:CPU:0 then broadcast to ('/job:localhost/replica:0/task:0/device:CPU:0',).\n",
      "INFO:tensorflow:Reduce to /job:localhost/replica:0/task:0/device:CPU:0 then broadcast to ('/job:localhost/replica:0/task:0/device:CPU:0',).\n"
     ]
    }
   ],
   "source": [
    "# Replace the model building cell with this:\n",
    "\n",
    "with strategy.scope():\n",
    "    base_model = MobileNetV2(weights='imagenet', \n",
    "                             include_top=False, \n",
    "                             input_shape=(96, 96, 3))\n",
    "    x = base_model.output\n",
    "    x = GlobalAveragePooling2D()(x)\n",
    "    x = Dense(64, activation='relu')(x)  # Reduced from 128\n",
    "    x = Dropout(0.5)(x)  \n",
    "    predictions = Dense(train_generator.num_classes, activation='softmax')(x)\n",
    "    \n",
    "    model = Model(inputs=base_model.input, outputs=predictions)\n",
    "    \n",
    "    for layer in base_model.layers:\n",
    "        layer.trainable = False  # freeze base\n",
    "        \n",
    "    model.compile(optimizer=tf.keras.optimizers.Adam(0.0001), \n",
    "                  loss='categorical_crossentropy', \n",
    "                  metrics=['accuracy'])"
   ]
  },
  {
   "cell_type": "code",
   "execution_count": 11,
   "metadata": {},
   "outputs": [],
   "source": [
    "# === Callbacks ===\n",
    "os.makedirs(CHECKPOINT_DIR, exist_ok=True)  # Add before callbacks\n",
    "\n",
    "callbacks = [\n",
    "    TensorBoard(log_dir=LOG_DIR),\n",
    "    EarlyStopping(patience=5, restore_best_weights=True),\n",
    "    ModelCheckpoint(filepath=os.path.join(CHECKPOINT_DIR, \"best_model.h5\"), save_best_only=True)\n",
    "]"
   ]
  },
  {
   "cell_type": "code",
   "execution_count": 12,
   "id": "4e5464e5",
   "metadata": {},
   "outputs": [
    {
     "name": "stdout",
     "output_type": "stream",
     "text": [
      "INFO:tensorflow:Mixed precision compatibility check (mixed_float16): OK\n",
      "Your GPU will likely run quickly with dtype policy mixed_float16 as it has compute capability of at least 7.0. Your GPU: NVIDIA GeForce GTX 1650, compute capability 7.5\n"
     ]
    }
   ],
   "source": [
    "# 4. Add mixed precision for 2x+ speed (if GPU supports it)\n",
    "policy = tf.keras.mixed_precision.Policy('mixed_float16')\n",
    "tf.keras.mixed_precision.set_global_policy(policy)"
   ]
  },
  {
   "cell_type": "code",
   "execution_count": 13,
   "id": "855e195d",
   "metadata": {},
   "outputs": [
    {
     "name": "stdout",
     "output_type": "stream",
     "text": [
      "Epoch 1/20\n",
      "35147/35147 [==============================] - 971s 27ms/step - loss: 1.7364 - accuracy: 0.5004 - val_loss: 1.5176 - val_accuracy: 0.6872\n",
      "Epoch 2/20\n",
      "35147/35147 [==============================] - 927s 26ms/step - loss: 1.0763 - accuracy: 0.6711 - val_loss: 1.5406 - val_accuracy: 0.7193\n",
      "Epoch 3/20\n",
      "35147/35147 [==============================] - 889s 25ms/step - loss: 0.9443 - accuracy: 0.7100 - val_loss: 1.6346 - val_accuracy: 0.7312\n",
      "Epoch 4/20\n",
      "35147/35147 [==============================] - 833s 24ms/step - loss: 0.8843 - accuracy: 0.7269 - val_loss: 1.7185 - val_accuracy: 0.7356\n",
      "Epoch 5/20\n",
      "35147/35147 [==============================] - 869s 25ms/step - loss: 0.8526 - accuracy: 0.7372 - val_loss: 1.7872 - val_accuracy: 0.7387\n",
      "Epoch 6/20\n",
      "35147/35147 [==============================] - 895s 25ms/step - loss: 0.8232 - accuracy: 0.7470 - val_loss: 1.8639 - val_accuracy: 0.7437\n",
      "\n",
      "Training time: 5383.74 seconds\n",
      "\n",
      "GPU used: PhysicalDevice(name='/physical_device:GPU:0', device_type='GPU')\n",
      "GPU name: device: 0, name: NVIDIA GeForce GTX 1650, pci bus id: 0000:01:00.0, compute capability: 7.5\n",
      "GPU memory limit: 2135.30 MB\n"
     ]
    }
   ],
   "source": [
    "# === Training ===\n",
    "import time\n",
    "import scipy\n",
    "start_time = time.time()\n",
    "\n",
    "history = model.fit(\n",
    "    train_generator,\n",
    "    steps_per_epoch=train_generator.samples // train_generator.batch_size,\n",
    "    validation_data=val_generator,\n",
    "    epochs=20,\n",
    "    callbacks=callbacks\n",
    ")\n",
    "training_time = time.time() - start_time\n",
    "print(f\"\\nTraining time: {training_time:.2f} seconds\")\n",
    "\n",
    "# Check GPU memory usage\n",
    "gpu_devices = tf.config.list_physical_devices('GPU')\n",
    "if gpu_devices:\n",
    "    print(f\"\\nGPU used: {gpu_devices[0]}\")\n",
    "    try:\n",
    "        # Get GPU memory details\n",
    "        from tensorflow.python.client import device_lib\n",
    "        device_details = device_lib.list_local_devices()\n",
    "        for device in device_details:\n",
    "            if device.device_type == 'GPU':\n",
    "                print(f\"GPU name: {device.physical_device_desc}\")\n",
    "                print(f\"GPU memory limit: {device.memory_limit / (1024**2):.2f} MB\")\n",
    "    except ImportError:\n",
    "        print(\"Could not get detailed GPU information\")\n",
    "else:\n",
    "    print(\"\\n❌ No GPU detected during training\")"
   ]
  },
  {
   "cell_type": "code",
   "execution_count": 14,
   "id": "dd6159a5",
   "metadata": {},
   "outputs": [
    {
     "data": {
      "image/png": "[encoded data removed]",
      "text/plain": [
       "<Figure size 640x480 with 1 Axes>"
      ]
     },
     "metadata": {},
     "output_type": "display_data"
    },
    {
     "data": {
      "image/png": "[encoded data removed]",
      "text/plain": [
       "<Figure size 640x480 with 1 Axes>"
      ]
     },
     "metadata": {},
     "output_type": "display_data"
    }
   ],
   "source": [
    "# === Visualing ===\n",
    "# Accuracy\n",
    "plt.plot(history.history['accuracy'], label='train_accuracy')\n",
    "plt.plot(history.history['val_accuracy'], label='val_accuracy')\n",
    "plt.title('Model Accuracy')\n",
    "plt.xlabel('Epoch')\n",
    "plt.ylabel('Accuracy')\n",
    "plt.legend()\n",
    "plt.show()\n",
    "\n",
    "# Loss\n",
    "plt.plot(history.history['loss'], label='train_loss')\n",
    "plt.plot(history.history['val_loss'], label='val_loss')\n",
    "plt.title('Model Loss')\n",
    "plt.xlabel('Epoch')\n",
    "plt.ylabel('Loss')\n",
    "plt.legend()\n",
    "plt.show()"
   ]
  },
  {
   "cell_type": "code",
   "execution_count": 15,
   "id": "5a9a5464",
   "metadata": {},
   "outputs": [
    {
     "name": "stdout",
     "output_type": "stream",
     "text": [
      "8786/8786 [==============================] - 99s 11ms/step - loss: 1.5176 - accuracy: 0.6872\n",
      "Validation Loss: 1.5175509452819824\n",
      "Validation Accuracy: 0.6872296929359436\n"
     ]
    }
   ],
   "source": [
    "loss, accuracy = model.evaluate(val_generator)\n",
    "print(\"Validation Loss:\", loss)\n",
    "print(\"Validation Accuracy:\", accuracy)"
   ]
  },
  {
   "cell_type": "code",
   "execution_count": 16,
   "id": "740dc1ff",
   "metadata": {},
   "outputs": [],
   "source": [
    "def get_class_names_from_directory(DATA_DIR):\n",
    "    class_names = sorted([\n",
    "        d for d in os.listdir(DATA_DIR)\n",
    "        if os.path.isdir(os.path.join(DATA_DIR, d))\n",
    "    ])\n",
    "    return class_names"
   ]
  },
  {
   "cell_type": "code",
   "execution_count": 17,
   "id": "791e22d3",
   "metadata": {},
   "outputs": [],
   "source": [
    "def predict_image_auto(img_path, model_path, training_dir, target_size=(224, 224)):\n",
    "    \n",
    "    # Step 1: Load model\n",
    "    model = load_model(model_path)\n",
    "\n",
    "    # Step 2: Get class names from training directory\n",
    "    class_names = get_class_names_from_directory(training_dir)\n",
    "\n",
    "    # Step 3: Load and preprocess image\n",
    "    img = image.load_img(img_path, target_size=target_size)\n",
    "    img_array = image.img_to_array(img)\n",
    "    img_array = np.expand_dims(img_array, axis=0)  # shape (1, 224, 224, 3)\n",
    "    img_array = img_array / 255.0  # normalize like training\n",
    "\n",
    "    # Step 4: Predict\n",
    "    predictions = model.predict(img_array)\n",
    "    predicted_index = np.argmax(predictions[0])\n",
    "    predicted_class = class_names[predicted_index]\n",
    "    confidence = predictions[0][predicted_index]\n",
    "\n",
    "    print(f\"✅ Predicted Class: {predicted_class} ({confidence:.2f} confidence)\")\n",
    "    return predicted_class"
   ]
  },
  {
   "cell_type": "code",
   "execution_count": 18,
   "metadata": {},
   "outputs": [
    {
     "name": "stdout",
     "output_type": "stream",
     "text": [
      "Model saved to ../Model\\plant_model_v1.h5\n"
     ]
    }
   ],
   "source": [
    "# ===Saving The Model===\n",
    "model.save(MODEL_SAVE_PATH)\n",
    "print(f\"Model saved to {MODEL_SAVE_PATH}\")\n"
   ]
  },
  {
   "cell_type": "code",
   "execution_count": null,
   "metadata": {},
   "outputs": [],
   "source": []
  },
  {
   "cell_type": "code",
   "execution_count": null,
   "metadata": {},
   "outputs": [],
   "source": []
  },
  {
   "cell_type": "code",
   "execution_count": null,
   "id": "9c513f0e",
   "metadata": {},
   "outputs": [],
   "source": []
  },
  {
   "cell_type": "code",
   "execution_count": null,
   "metadata": {},
   "outputs": [],
   "source": []
  },
  {
   "cell_type": "code",
   "execution_count": null,
   "metadata": {},
   "outputs": [],
   "source": []
  },
  {
   "cell_type": "code",
   "execution_count": null,
   "metadata": {},
   "outputs": [],
   "source": []
  },
  {
   "cell_type": "code",
   "execution_count": null,
   "metadata": {},
   "outputs": [],
   "source": []
  },
  {
   "cell_type": "code",
   "execution_count": null,
   "metadata": {},
   "outputs": [],
   "source": []
  },
  {
   "cell_type": "code",
   "execution_count": null,
   "metadata": {},
   "outputs": [],
   "source": []
  },
  {
   "cell_type": "code",
   "execution_count": null,
   "metadata": {},
   "outputs": [],
   "source": []
  },
  {
   "cell_type": "code",
   "execution_count": null,
   "metadata": {},
   "outputs": [],
   "source": []
  },
  {
   "cell_type": "code",
   "execution_count": null,
   "id": "6f701d68",
   "metadata": {},
   "outputs": [],
   "source": []
  },
  {
   "cell_type": "code",
   "execution_count": null,
   "id": "4ec8f709",
   "metadata": {},
   "outputs": [],
   "source": []
  },
  {
   "cell_type": "code",
   "execution_count": null,
   "metadata": {},
   "outputs": [],
   "source": []
  },
  {
   "cell_type": "code",
   "execution_count": null,
   "metadata": {},
   "outputs": [],
   "source": []
  },
  {
   "cell_type": "code",
   "execution_count": null,
   "id": "92ac907a",
   "metadata": {},
   "outputs": [],
   "source": []
  },
  {
   "cell_type": "code",
   "execution_count": null,
   "metadata": {},
   "outputs": [],
   "source": []
  },
  {
   "cell_type": "code",
   "execution_count": null,
   "metadata": {},
   "outputs": [],
   "source": []
  },
  {
   "cell_type": "code",
   "execution_count": null,
   "metadata": {},
   "outputs": [],
   "source": []
  },
  {
   "cell_type": "code",
   "execution_count": null,
   "metadata": {},
   "outputs": [],
   "source": []
  },
  {
   "cell_type": "code",
   "execution_count": null,
   "metadata": {},
   "outputs": [],
   "source": []
  },
  {
   "cell_type": "code",
   "execution_count": null,
   "id": "2def66a0",
   "metadata": {},
   "outputs": [],
   "source": []
  },
  {
   "cell_type": "code",
   "execution_count": null,
   "metadata": {},
   "outputs": [],
   "source": []
  },
  {
   "cell_type": "code",
   "execution_count": null,
   "metadata": {},
   "outputs": [],
   "source": []
  },
  {
   "cell_type": "code",
   "execution_count": null,
   "id": "8d847080",
   "metadata": {},
   "outputs": [],
   "source": []
  },
  {
   "cell_type": "code",
   "execution_count": null,
   "metadata": {},
   "outputs": [],
   "source": []
  },
  {
   "cell_type": "code",
   "execution_count": null,
   "id": "36be80c5",
   "metadata": {},
   "outputs": [],
   "source": []
  },
  {
   "cell_type": "code",
   "execution_count": null,
   "id": "237a4a13",
   "metadata": {},
   "outputs": [],
   "source": []
  },
  {
   "cell_type": "code",
   "execution_count": null,
   "metadata": {},
   "outputs": [],
   "source": []
  },
  {
   "cell_type": "code",
   "execution_count": null,
   "metadata": {},
   "outputs": [],
   "source": []
  },
  {
   "cell_type": "code",
   "execution_count": null,
   "id": "12ae7e93",
   "metadata": {},
   "outputs": [],
   "source": []
  },
  {
   "cell_type": "code",
   "execution_count": null,
   "metadata": {},
   "outputs": [],
   "source": []
  },
  {
   "cell_type": "code",
   "execution_count": null,
   "metadata": {},
   "outputs": [],
   "source": []
  },
  {
   "cell_type": "code",
   "execution_count": null,
   "metadata": {},
   "outputs": [],
   "source": []
  },
  {
   "cell_type": "code",
   "execution_count": null,
   "metadata": {},
   "outputs": [],
   "source": []
  },
  {
   "cell_type": "code",
   "execution_count": null,
   "metadata": {},
   "outputs": [],
   "source": []
  },
  {
   "cell_type": "code",
   "execution_count": null,
   "metadata": {},
   "outputs": [],
   "source": []
  },
  {
   "cell_type": "code",
   "execution_count": null,
   "metadata": {},
   "outputs": [],
   "source": []
  },
  {
   "cell_type": "code",
   "execution_count": null,
   "metadata": {},
   "outputs": [],
   "source": []
  },
  {
   "cell_type": "code",
   "execution_count": null,
   "metadata": {},
   "outputs": [],
   "source": []
  },
  {
   "cell_type": "code",
   "execution_count": null,
   "metadata": {},
   "outputs": [],
   "source": []
  },
  {
   "cell_type": "code",
   "execution_count": null,
   "metadata": {},
   "outputs": [],
   "source": []
  },
  {
   "cell_type": "code",
   "execution_count": null,
   "metadata": {},
   "outputs": [],
   "source": []
  },
  {
   "cell_type": "code",
   "execution_count": null,
   "metadata": {},
   "outputs": [],
   "source": []
  },
  {
   "cell_type": "code",
   "execution_count": null,
   "metadata": {},
   "outputs": [],
   "source": []
  },
  {
   "cell_type": "code",
   "execution_count": null,
   "metadata": {},
   "outputs": [],
   "source": []
  },
  {
   "cell_type": "code",
   "execution_count": null,
   "metadata": {},
   "outputs": [],
   "source": []
  },
  {
   "cell_type": "code",
   "execution_count": null,
   "metadata": {},
   "outputs": [],
   "source": []
  },
  {
   "cell_type": "code",
   "execution_count": null,
   "metadata": {},
   "outputs": [],
   "source": []
  },
  {
   "cell_type": "code",
   "execution_count": null,
   "id": "c8b5f218",
   "metadata": {},
   "outputs": [],
   "source": []
  },
  {
   "cell_type": "code",
   "execution_count": null,
   "id": "d6588e38",
   "metadata": {},
   "outputs": [],
   "source": []
  }
 ],
 "metadata": {
  "kernelspec": {
   "display_name": "tf-working",
   "language": "python",
   "name": "python3"
  },
  "language_info": {
   "codemirror_mode": {
    "name": "ipython",
    "version": 3
   },
   "file_extension": ".py",
   "mimetype": "text/x-python",
   "name": "python",
   "nbconvert_exporter": "python",
   "pygments_lexer": "ipython3",
   "version": "3.9.23"
  }
 },
 "nbformat": 4,
 "nbformat_minor": 5
}
